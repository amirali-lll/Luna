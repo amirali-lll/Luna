{
 "cells": [
  {
   "cell_type": "markdown",
   "id": "2db68085",
   "metadata": {},
   "source": [
    "# MCP Tool Documentation\n",
    "\n",
    "A concise guide for installing, configuring, and using the MCP (Model Context Protocol) tool for efficient workflow automation and management."
   ]
  },
  {
   "cell_type": "code",
   "execution_count": 4,
   "id": "5629e8f7",
   "metadata": {},
   "outputs": [],
   "source": [
    "import os\n",
    "from dotenv import load_dotenv\n",
    "from openai import OpenAI\n",
    "\n",
    "load_dotenv()\n",
    "\n",
    "API_TOKEN = os.getenv(\"API_TOKEN\")\n",
    "\n",
    "client = OpenAI(api_key=API_TOKEN)\n"
   ]
  },
  {
   "cell_type": "code",
   "execution_count": 5,
   "id": "9ed3b785",
   "metadata": {},
   "outputs": [
    {
     "name": "stdout",
     "output_type": "stream",
     "text": [
      "As of the **2025-03-26** version of the **MCP (Mesh Control Protocol) spec**, the supported transport protocols are:\n",
      "\n",
      "### Supported Transport Protocols\n",
      "1. **HTTP/2**\n",
      "2. **gRPC**\n",
      "\n",
      "#### Details:\n",
      "- **HTTP/2**: Used for direct REST-style communication and streaming.\n",
      "- **gRPC**: Utilizes HTTP/2 under the hood and is used for efficient binary communication between services.\n",
      "\n",
      "#### Deprecated/Unsupported:\n",
      "- **HTTP/1.1**: Not supported.\n",
      "- **WebSockets**: Not natively supported as a transport protocol for MCP.\n",
      "\n",
      "**Note:**  \n",
      "The protocol guidance in the 2025-03-26 spec focuses on these modern, secure, high-performance protocols to support scalable mesh configuration, leaving out legacy or less-performant options.\n",
      "\n",
      "If you need an exact citation or a specific section from the spec, let me know!\n"
     ]
    }
   ],
   "source": [
    "\n",
    "\n",
    "resp = client.responses.create(\n",
    "    model=\"gpt-4.1\",\n",
    "    tools=[\n",
    "        {\n",
    "            \"type\": \"mcp\",\n",
    "            \"server_label\": \"deepwiki\",\n",
    "            \"server_url\": \"https://mcp.deepwiki.com/mcp\",\n",
    "            \"require_approval\": \"never\",\n",
    "        },\n",
    "    ],\n",
    "    input=\"What transport protocols are supported in the 2025-03-26 version of the MCP spec?\",\n",
    ")\n",
    "\n",
    "print(resp.output_text)"
   ]
  }
 ],
 "metadata": {
  "kernelspec": {
   "display_name": "env",
   "language": "python",
   "name": "python3"
  },
  "language_info": {
   "codemirror_mode": {
    "name": "ipython",
    "version": 3
   },
   "file_extension": ".py",
   "mimetype": "text/x-python",
   "name": "python",
   "nbconvert_exporter": "python",
   "pygments_lexer": "ipython3",
   "version": "3.11.0"
  }
 },
 "nbformat": 4,
 "nbformat_minor": 5
}
